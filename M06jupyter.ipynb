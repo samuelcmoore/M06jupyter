{
 "cells": [
  {
   "cell_type": "code",
   "execution_count": 4,
   "id": "89820f31",
   "metadata": {},
   "outputs": [
    {
     "name": "stdout",
     "output_type": "stream",
     "text": [
      "2023-07-15\n"
     ]
    }
   ],
   "source": [
    "#13.1\n",
    "\n",
    "import datetime\n",
    "currDate = datetime.date.today()\n",
    "\n",
    "tdFile = open('today.txt', 'w')\n",
    "tdFile.write(str(currDate))\n",
    "tdFile.close()\n",
    "\n",
    "print(str(currDate))"
   ]
  },
  {
   "cell_type": "code",
   "execution_count": 5,
   "id": "133c63e4",
   "metadata": {},
   "outputs": [],
   "source": [
    "#13.2\n",
    "\n",
    "tdFile = open('today.txt', 'r')\n",
    "today_string = tdFile.read()\n",
    "tdFile.close()"
   ]
  },
  {
   "cell_type": "code",
   "execution_count": 9,
   "id": "92fef62f",
   "metadata": {},
   "outputs": [
    {
     "name": "stdout",
     "output_type": "stream",
     "text": [
      "Today's date is 2023-07-15\n"
     ]
    }
   ],
   "source": [
    "#13.3\n",
    "\n",
    "print(\"Today's date is\", today_string)"
   ]
  },
  {
   "cell_type": "code",
   "execution_count": 10,
   "id": "76526aa3",
   "metadata": {},
   "outputs": [
    {
     "name": "stdout",
     "output_type": "stream",
     "text": [
      "Today's date and time is 2023-07-15 18:20:42.029995\n",
      "Today's date and time is 2023-07-15 18:20:42.511115\n",
      "Today's date and time is 2023-07-15 18:20:42.627179\n",
      "Completed\n"
     ]
    }
   ],
   "source": [
    "#15.1\n",
    "\n",
    "import multiprocessing\n",
    "from datetime import datetime\n",
    "import time\n",
    "import random\n",
    "\n",
    "\n",
    "def print_time():\n",
    "    now = datetime.now()\n",
    "    print(\"Today's date and time is {}\".format(now))\n",
    "    time.sleep(random.random())\n",
    "\n",
    "\n",
    "if __name__ == '__main__':\n",
    "    proc1 = multiprocessing.Process(target=print_time())\n",
    "    proc2 = multiprocessing.Process(target=print_time())\n",
    "    proc3 = multiprocessing.Process(target=print_time())\n",
    "    proc1.start()\n",
    "    proc2.start()\n",
    "    proc3.start()\n",
    "    proc1.join()\n",
    "    proc2.join()\n",
    "    proc3.join()\n",
    "\n",
    "    print('Completed')"
   ]
  }
 ],
 "metadata": {
  "kernelspec": {
   "display_name": "Python 3 (ipykernel)",
   "language": "python",
   "name": "python3"
  },
  "language_info": {
   "codemirror_mode": {
    "name": "ipython",
    "version": 3
   },
   "file_extension": ".py",
   "mimetype": "text/x-python",
   "name": "python",
   "nbconvert_exporter": "python",
   "pygments_lexer": "ipython3",
   "version": "3.10.9"
  }
 },
 "nbformat": 4,
 "nbformat_minor": 5
}
